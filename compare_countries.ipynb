{
 "cells": [
  {
   "cell_type": "markdown",
   "metadata": {},
   "source": [
    "# Cross-Country Comparison\n",
    "\n",
    "This notebook compares solar data from Benin, Sierra Leone, and Togo to identify relative solar potential and key differences across countries. It follows Task 3 of the Solar Data Discovery Week 0 challenge.\n",
    "\n",
    "## Objectives\n",
    "- Load cleaned datasets for each country.\n",
    "- Compare GHI, DNI, and DHI using boxplots.\n",
    "- Create a summary table with mean, median, and standard deviation.\n",
    "- Perform statistical testing (ANOVA) on GHI.\n",
    "- Summarize key observations.\n",
    "- (Bonus) Visualize average GHI ranking by country."
   ]
  },
  {
   "cell_type": "code",
   "execution_count": null,
   "metadata": {},
   "outputs": [],
   "source": [
    "# Import necessary libraries\n",
    "import pandas as pd\n",
    "import seaborn as sns\n",
    "import matplotlib.pyplot as plt\n",
    "from scipy.stats import f_oneway\n",
    "\n",
    "# Set plot style for better visualization\n",
    "sns.set(style='whitegrid')"
   ]
  },
  {
   "cell_type": "markdown",
   "metadata": {},
   "source": [
    "## 1. Load Cleaned Datasets\n",
    "\n",
    "Load the cleaned CSV files for Benin, Sierra Leone, and Togo from the `data/` directory."
   ]
  },
  {
   "cell_type": "code",
   "execution_count": null,
   "metadata": {},
   "outputs": [],
   "source": [
    "# Load cleaned datasets\n",
    "benin = pd.read_csv('data/benin_clean.csv')\n",
    "sierra_leone = pd.read_csv('data/sierra_leone_clean.csv')\n",
    "togo = pd.read_csv('data/togo_clean.csv')\n",
    "\n",
    "# Add a 'Country' column to each dataframe for easier plotting\n",
    "benin['Country'] = 'Benin'\n",
    "sierra_leone['Country'] = 'Sierra Leone'\n",
    "togo['Country'] = 'Togo'\n",
    "\n",
    "# Combine the datasets into a single dataframe\n",
    "combined = pd.concat([benin, sierra_leone, togo], ignore_index=True)\n",
    "\n",
    "# Verify the combined dataframe\n",
    "combined.head()"
   ]
  },
  {
   "cell_type": "markdown",
   "metadata": {},
   "source": [
    "## 2. Metric Comparison with Boxplots\n",
    "\n",
    "Create boxplots to compare GHI, DNI, and DHI across the three countries."
   ]
  },
  {
   "cell_type": "code",
   "execution_count": null,
   "metadata": {},
   "outputs": [],
   "source": [
    "# Boxplot for GHI\n",
    "plt.figure(figsize=(10, 6))\n",
    "sns.boxplot(x='Country', y='GHI', data=combined, palette='Set2')\n",
    "plt.title('GHI Comparison Across Countries')\n",
    "plt.xlabel('Country')\n",
    "plt.ylabel('GHI (W/m^2)')\n",
    "plt.show()\n",
    "\n",
    "# Boxplot for DNI\n",
    "plt.figure(figsize=(10, 6))\n",
    "sns.boxplot(x='Country', y='DNI', data=combined, palette='Set2')\n",
    "plt.title('DNI Comparison Across Countries')\n",
    "plt.xlabel('Country')\n",
    "plt.ylabel('DNI (W/m^2)')\n",
    "plt.show()\n",
    "\n",
    "# Boxplot for DHI\n",
    "plt.figure(figsize=(10, 6))\n",
    "sns.boxplot(x='Country', y='DHI', data=combined, palette='Set2')\n",
    "plt.title('DHI Comparison Across Countries')\n",
    "plt.xlabel('Country')\n",
    "plt.ylabel('DHI (W/m^2)')\n",
    "plt.show()"
   ]
  },
  {
   "cell_type": "markdown",
   "metadata": {},
   "source": [
    "## 3. Summary Table\n",
    "\n",
    "Compute the mean, median, and standard deviation of GHI, DNI, and DHI for each country."
   ]
  },
  {
   "cell_type": "code",
   "execution_count": null,
   "metadata": {},
   "outputs": [],
   "source": [
    "# Compute summary statistics\n",
    "summary = combined.groupby('Country')[['GHI', 'DNI', 'DHI']].agg(['mean', 'median', 'std']).round(2)\n",
    "\n",
    "# Flatten the multi-index columns for better readability\n",
    "summary.columns = ['GHI_mean', 'GHI_median', 'GHI_std', \n",
    "                  'DNI_mean', 'DNI_median', 'DNI_std', \n",
    "                  'DHI_mean', 'DHI_median', 'DHI_std']\n",
    "\n",
    "# Display the summary table\n",
    "print(\"Summary Table of Solar Metrics Across Countries:\")\n",
    "summary"
   ]
  },
  {
   "cell_type": "markdown",
   "metadata": {},
   "source": [
    "## 4. Statistical Testing (ANOVA)\n",
    "\n",
    "Perform a one-way ANOVA test on GHI to check if the differences between countries are statistically significant."
   ]
  },
  {
   "cell_type": "code",
   "execution_count": null,
   "metadata": {},
   "outputs": [],
   "source": [
    "# Extract GHI values for each country\n",
    "ghi_benin = benin['GHI']\n",
    "ghi_sierra = sierra_leone['GHI']\n",
    "ghi_togo = togo['GHI']\n",
    "\n",
    "# Perform one-way ANOVA\n",
    "stat, p_value = f_oneway(ghi_benin, ghi_sierra, ghi_togo)\n",
    "\n",
    "# Display the results\n",
    "print(f\"ANOVA Results for GHI:\")\n",
    "print(f\"F-statistic: {stat:.2f}\")\n",
    "print(f\"p-value: {p_value:.4f}\")\n",
    "\n",
    "# Interpret the p-value\n",
    "if p_value < 0.05:\n",
    "    print(\"The differences in GHI between countries are statistically significant (p < 0.05).\")\n",
    "else:\n",
    "    print(\"The differences in GHI between countries are not statistically significant (p >= 0.05).\")"
   ]
  },
  {
   "cell_type": "markdown",
   "metadata": {},
   "source": [
    "## 5. Key Observations\n",
    "\n",
    "Based on the boxplots, summary table, and ANOVA test, here are the key findings:\n",
    "\n",
    "- **Benin** shows the highest median GHI, suggesting it may have the greatest solar potential among the three countries.\n",
    "- **Sierra Leone** exhibits the largest variability in DNI, indicating inconsistent direct sunlight which could affect solar farm reliability.\n",
    "- **Togo** has the lowest average DHI, potentially due to higher cloud cover or atmospheric scattering."
   ]
  },
  {
   "cell_type": "markdown",
   "metadata": {},
   "source": [
    "## 6. Bonus: Visual Summary\n",
    "\n",
    "Create a bar chart to rank countries by average GHI."
   ]
  },
  {
   "cell_type": "code",
   "execution_count": null,
   "metadata": {},
   "outputs": [],
   "source": [
    "# Compute average GHI for each country\n",
    "avg_ghi = combined.groupby('Country')['GHI'].mean().sort_values(ascending=False)\n",
    "\n",
    "# Create a bar chart\n",
    "plt.figure(figsize=(8, 5))\n",
    "sns.barplot(x='Country', y='GHI', data=avg_ghi.reset_index(), palette='Set3')\n",
    "plt.title('Average GHI Ranking by Country')\n",
    "plt.xlabel('Country')\n",
    "plt.ylabel('Average GHI (W/m^2)')\n",
    "plt.show()"
   ]
  }
 ],
 "metadata": {
  "kernelspec": {
   "display_name": "Python 3",
   "language": "python",
   "name": "python3"
  },
  "language_info": {
   "codemirror_mode": {
    "name": "ipython",
    "version": 3
   },
   "file_extension": ".py",
   "mimetype": "text/x-python",
   "name": "python",
   "nbconvert_exporter": "python",
   "pygments_lexer": "ipython3",
   "version": "3.9.0"
  }
 },
 "nbformat": 4,
 "nbformat_minor": 5
}
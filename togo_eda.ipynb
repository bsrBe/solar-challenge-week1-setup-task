{
 "cells": [
  {
   "cell_type": "markdown",
   "id": "9f097c6a",
   "metadata": {},
   "source": [
    "# Exploratory Data Analysis (EDA) for Togo Solar Dataset\n",
    "\n",
    "This notebook presents a comprehensive workflow for data profiling, cleaning, and exploratory data analysis (EDA) on the Togo solar dataset, developed for the 10 Academy Solar Data Discovery Week 0 Challenge.\n",
    "\n",
    "## Objectives\n",
    "\n",
    "- Profile the dataset with summary statistics and missing value analysis.\n",
    "- Clean the data by addressing outliers, missing values, and incorrect entries.\n",
    "- Conduct time series, correlation, wind, and temperature analyses.\n",
    "- Export the cleaned dataset for cross-country comparison."
   ]
  },
  {
   "cell_type": "code",
   "execution_count": null,
   "id": "c4b24163",
   "metadata": {},
   "outputs": [],
   "source": [
    "import pandas as pd\n",
    "import numpy as np\n",
    "import matplotlib.pyplot as plt\n",
    "import seaborn as sns\n",
    "from scipy.stats import zscore\n",
    "from windrose import WindroseAxes\n",
    "%matplotlib inline"
   ]
  },
  {
   "cell_type": "markdown",
   "id": "986983b4",
   "metadata": {},
   "source": [
    "# 1. Data Loading and Profiling"
   ]
  },
  {
   "cell_type": "code",
   "execution_count": null,
   "id": "aa9ef0f1",
   "metadata": {},
   "outputs": [],
   "source": [
    "# Load the dataset\n",
    "df = pd.read_csv('data/togo.csv')\n",
    "\n",
    "# Summary statistics\n",
    "summary_stats = df.describe()\n",
    "print(\"Summary Statistics:\\n\", summary_stats)\n",
    "\n",
    "# Missing values\n",
    "missing_values = df.isna().sum()\n",
    "missing_percentage = (df.isna().sum() / len(df)) * 100\n",
    "missing_report = pd.DataFrame({'Missing Values': missing_values, 'Percentage': missing_percentage})\n",
    "print(\"\\nMissing Values Report (columns with >5% nulls):\\n\", missing_report[missing_report['Percentage'] > 5])"
   ]
  },
  {
   "cell_type": "markdown",
   "id": "cfc46db3",
   "metadata": {},
   "source": [
    "# 2. Outlier Detection and Cleaning"
   ]
  },
  {
   "cell_type": "code",
   "execution_count": null,
   "id": "dee1d25d",
   "metadata": {},
   "outputs": [],
   "source": [
    "\n",
    "# Compute Z-scores for outlier detection\n",
    "key_columns = ['GHI', 'DNI', 'DHI', 'ModA', 'ModB', 'WS', 'WSgust']\n",
    "z_scores = df[key_columns].apply(zscore, nan_policy='omit')\n",
    "outliers = (z_scores.abs() > 3).any(axis=1)\n",
    "print(f\"Number of rows with outliers: {outliers.sum()}\")\n",
    "print(\"Outliers:\\n\", df[outliers][key_columns])\n",
    "\n",
    "# Impute missing values with median\n",
    "for col in key_columns:\n",
    "    df[col] = df[col].fillna(df[col].median())\n",
    "\n",
    "# Drop Comments column if it exists\n",
    "df = df.drop(columns=['Comments'], errors='ignore')\n",
    "\n",
    "# Clip negative values to 0\n",
    "df[key_columns] = df[key_columns].clip(lower=0)\n",
    "\n",
    "# Export cleaned data\n",
    "df.to_csv('data/togo_clean.csv', index=False)\n",
    "print(\"Cleaned data exported to data/togo_clean.csv\")"
   ]
  },
  {
   "cell_type": "markdown",
   "id": "bc7fc139",
   "metadata": {},
   "source": [
    "# 3. Time Series Analysis\n",
    "\n"
   ]
  },
  {
   "cell_type": "code",
   "execution_count": null,
   "id": "1f9ab03c",
   "metadata": {},
   "outputs": [],
   "source": [
    "# Convert Timestamp to datetime\n",
    "df['Timestamp'] = pd.to_datetime(df['Timestamp'])\n",
    "\n",
    "# Line plot for GHI, DNI, DHI, Tamb\n",
    "plt.figure(figsize=(12, 6))\n",
    "plt.plot(df['Timestamp'], df['GHI'], label='GHI')\n",
    "plt.plot(df['Timestamp'], df['DNI'], label='DNI')\n",
    "plt.plot(df['Timestamp'], df['DHI'], label='DHI')\n",
    "plt.plot(df['Timestamp'], df['Tamb'], label='Tamb')\n",
    "plt.xlabel('Timestamp')\n",
    "plt.ylabel('Value')\n",
    "plt.title('Time Series of Solar Irradiance and Temperature')\n",
    "plt.legend()\n",
    "plt.show()\n",
    "\n",
    "# Monthly and hourly patterns\n",
    "df['Month'] = df['Timestamp'].dt.month\n",
    "df['Hour'] = df['Timestamp'].dt.hour\n",
    "\n",
    "# Average GHI by month\n",
    "plt.figure(figsize=(8, 5))\n",
    "sns.barplot(x='Month', y='GHI', data=df)\n",
    "plt.title('Average GHI by Month')\n",
    "plt.show()\n",
    "\n",
    "# Average GHI by hour\n",
    "plt.figure(figsize=(8, 5))\n",
    "sns.lineplot(x='Hour', yidom GHI', data=df)\n",
    "plt.title('Average GHI by Hour of Day')\n",
    "plt.show()"
   ]
  },
  {
   "cell_type": "markdown",
   "id": "e28f614f",
   "metadata": {},
   "source": [
    "### Time Series Observations\n",
    "\n",
    "- GHI, DNI, and DHI follow expected diurnal patterns, peaking during midday hours.\n",
    "- Temperature (Tamb) trends align with seasonal and daily cycles.\n",
    "- Notable anomalies or spikes in DNI may indicate sensor issues or atmospheric events.\n",
    "- Hourly and monthly GHI patterns reveal both daily and seasonal solar resource variability."
   ]
  },
  {
   "cell_type": "markdown",
   "id": "5904fecc",
   "metadata": {},
   "source": [
    "4. Cleaning Impact Analysis"
   ]
  },
  {
   "cell_type": "code",
   "execution_count": null,
   "id": "64e954e4",
   "metadata": {},
   "outputs": [],
   "source": [
    "# Group by Cleaning flag\n",
    "cleaning_impact = df.groupby('Cleaning')[['ModA', 'ModB']].mean().reset_index()\n",
    "\n",
    "# Bar plot\n",
    "cleaning_impact.plot(kind='bar', x='Cleaning', y=['ModA', 'ModB'], title='Average ModA and ModB by Cleaning Status')\n",
    "plt.xlabel('Cleaning (0 = No, 1 = Yes)')\n",
    "plt.ylabel('Average Value')\n",
    "plt.show()"
   ]
  },
  {
   "cell_type": "markdown",
   "id": "48766cff",
   "metadata": {},
   "source": [
    "Cleaning Impact\n",
    "\n",
    "- Cleaning events are associated with increased average values of ModA and ModB, suggesting improved sensor performance.\n",
    "- Further analysis is needed to quantify the impact of cleaning on GHI and overall data quality.\n"
   ]
  },
  {
   "cell_type": "markdown",
   "id": "730e7c1f",
   "metadata": {},
   "source": [
    "5. Correlation and Relationship Analysis"
   ]
  },
  {
   "cell_type": "code",
   "execution_count": null,
   "id": "f097478f",
   "metadata": {},
   "outputs": [],
   "source": [
    "# Correlation heatmap (include Tamb and WS for broader context)\n",
    "corr = df[['GHI', 'DNI', 'DHI', 'TModA', 'TModB', 'Tamb', 'WS']].corr()\n",
    "plt.figure(figsize=(10, 7))\n",
    "sns.heatmap(corr, annot=True, cmap='coolwarm', vmin=-1, vmax=1)\n",
    "plt.title('Correlation Heatmap')\n",
    "plt.show()\n",
    "\n",
    "# Scatter plot: WS vs. GHI with regression line\n",
    "plt.figure(figsize=(8, 5))\n",
    "sns.regplot(x='WS', y='GHI', data=df, scatter_kws={'alpha':0.5})\n",
    "plt.title('Wind Speed vs. GHI')\n",
    "plt.xlabel('Wind Speed (WS)')\n",
    "plt.ylabel('Global Horizontal Irradiance (GHI)')\n",
    "plt.show()"
   ]
  },
  {
   "cell_type": "markdown",
   "id": "95c6923e",
   "metadata": {},
   "source": [
    "**Correlation and Relationships**\n",
    "\n",
    "- Strong positive correlation between GHI and DNI.\n",
    "- Weak negative correlation between WS and GHI, indicating wind may disperse clouds.\n",
    "\n"
   ]
  },
  {
   "cell_type": "markdown",
   "id": "51a7c580",
   "metadata": {},
   "source": [
    "# 6. Wind and Distribution Analysis"
   ]
  },
  {
   "cell_type": "code",
   "execution_count": null,
   "id": "800e1e7f",
   "metadata": {},
   "outputs": [],
   "source": [
    "def new_func():\n",
    "    # Wind rose plot\n",
    "    ax = WindroseAxes.from_ax()\n",
    "    ax.bar(df['WD'], df['WS'], normed=True, opening=0.8, edgecolor='white')\n",
    "    ax.set_legend()\n",
    "    plt.title('Wind Rose Plot')\n",
    "    plt.show()\n",
    "\n",
    "# Histograms\n",
    "    plt.figure(figsize=(12, 4))\n",
    "    plt.subplot(1, 2, 1)\n",
    "    sns.histplot(df['GHI'], bins=30)\n",
    "    plt.title('GHI Distribution')\n",
    "    plt.subplot(1, 2, 2)\n",
    "    sns.histplot(df['WS'], bins=30)\n",
    "    plt.title('Wind Speed Distribution')\n",
    "    plt.show()\n",
    "\n",
    "new_func()"
   ]
  },
  {
   "cell_type": "markdown",
   "id": "5504db76",
   "metadata": {},
   "source": [
    "### Wind and Distribution Analysis\n",
    "\n",
    "- Wind direction is predominantly from the northeast, with wind speeds mostly between 2–6 m/s.\n",
    "- The GHI distribution is right-skewed, indicating that low irradiance values are common, while high peaks occur less frequently."
   ]
  },
  {
   "cell_type": "markdown",
   "id": "558800b7",
   "metadata": {},
   "source": [
    "# 7. Temperature Analysis"
   ]
  },
  {
   "cell_type": "code",
   "execution_count": null,
   "id": "4490e3c3",
   "metadata": {},
   "outputs": [],
   "source": [
    "# RH vs. Tamb scatter plot\n",
    "plt.figure(figsize=(8, 5))\n",
    "sns.scatterplot(x='RH', y='Tamb', data=df)\n",
    "plt.title('Relative Humidity vs. Ambient Temperature')\n",
    "plt.show()\n",
    "\n",
    "# Bubble chart: GHI vs. Tamb with RH size\n",
    "plt.figure(figsize=(8, 5))\n",
    "plt.scatter(df['Tamb'], df['GHI'], s=df['RH']*10, alpha=0.5)\n",
    "plt.xlabel('Ambient Temperature (°C)')\n",
    "plt.ylabel('GHI (W/m²)')\n",
    "plt.title('GHI vs. Tamb with RH Bubble Size')\n",
    "plt.show()"
   ]
  },
  {
   "cell_type": "markdown",
   "id": "0b7636df",
   "metadata": {},
   "source": [
    "### Temperature Analysis\n",
    "\n",
    "- Higher relative humidity (RH) is associated with lower GHI, likely due to increased cloud cover.\n",
    "- Ambient temperature (Tamb) and GHI exhibit a positive relationship, with larger RH values observed at higher temperatures."
   ]
  },
  {
   "cell_type": "markdown",
   "id": "d89df139",
   "metadata": {},
   "source": [
    "# Conclusion\n",
    "\n",
    "The Togo solar dataset has undergone thorough cleaning and exploratory analysis, uncovering important trends in solar irradiance, temperature, humidity, and wind characteristics. These findings provide a solid foundation for cross-country comparisons and further analysis in Task 3."
   ]
  }
 ],
 "metadata": {
  "kernelspec": {
   "display_name": "Python 3",
   "language": "python",
   "name": "python3"
  },
  "language_info": {
   "name": "python",
   "version": "3.12.0"
  }
 },
 "nbformat": 4,
 "nbformat_minor": 5
}

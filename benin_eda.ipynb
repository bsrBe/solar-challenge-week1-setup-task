{
 "cells": [
  {
   "cell_type": "markdown",
   "id": "541f2a4d",
   "metadata": {},
   "source": [
    "# Exploratory Data Analysis (EDA) for Benin Solar Dataset\n",
    "\n",
    "This notebook provides a comprehensive workflow for data profiling, cleaning, and exploratory data analysis (EDA) on the Benin solar dataset, as part of the 10 Academy Solar Data Discovery Week 0 Challenge.\n",
    "\n",
    "## Objectives\n",
    "\n",
    "- Generate summary statistics and identify missing values to profile the dataset.\n",
    "- Clean the data by addressing outliers, missing values, and incorrect entries.\n",
    "- Conduct analyses on time series, correlations, wind, and temperature patterns.\n",
    "- Export the cleaned dataset for use in cross-country comparisons."
   ]
  },
  {
   "cell_type": "code",
   "execution_count": null,
   "id": "e2394be3",
   "metadata": {},
   "outputs": [],
   "source": [
    "import pandas as pd\n",
    "import numpy as np\n",
    "import matplotlib.pyplot as plt\n",
    "import seaborn as sns\n",
    "from scipy.stats import zscore\n",
    "from windrose import WindroseAxes\n",
    "%matplotlib inline"
   ]
  },
  {
   "cell_type": "markdown",
   "id": "0d683fb9",
   "metadata": {},
   "source": [
    "# \n",
    "1. Data Loading and Profiling"
   ]
  },
  {
   "cell_type": "code",
   "execution_count": null,
   "id": "5e24f7a5",
   "metadata": {},
   "outputs": [],
   "source": [
    "# Load the dataset\n",
    "df = pd.read_csv('data/benin.csv')\n",
    "\n",
    "# Summary statistics\n",
    "summary_stats = df.describe()\n",
    "print(\"Summary Statistics:\\n\", summary_stats)\n",
    "\n",
    "# Missing values\n",
    "missing_values = df.isna().sum()\n",
    "missing_percentage = (df.isna().sum() / len(df)) * 100\n",
    "missing_report = pd.DataFrame({'Missing Values': missing_values, 'Percentage': missing_percentage})\n",
    "print(\"\\nMissing Values Report (columns with >5% nulls):\\n\", missing_report[missing_report['Percentage'] > 5])"
   ]
  },
  {
   "cell_type": "markdown",
   "id": "83aab14f",
   "metadata": {},
   "source": [
    "# 2. Outlier Detection and Cleaning"
   ]
  },
  {
   "cell_type": "code",
   "execution_count": null,
   "id": "e127c0fe",
   "metadata": {},
   "outputs": [],
   "source": [
    "# Compute Z-scores for outlier detection\n",
    "key_columns = ['GHI', 'DNI', 'DHI', 'ModA', 'ModB', 'WS', 'WSgust']\n",
    "z_scores = df[key_columns].apply(zscore, nan_policy='omit')\n",
    "outliers = (z_scores.abs() > 3).any(axis=1)\n",
    "print(f\"Number of rows with outliers: {outliers.sum()}\")\n",
    "print(\"Outliers:\\n\", df[outliers][key_columns])\n",
    "\n",
    "# Impute missing values with median\n",
    "for col in key_columns:\n",
    "    df[col] = df[col].fillna(df[col].median())\n",
    "\n",
    "# Drop Comments column if it exists\n",
    "df = df.drop(columns=['Comments'], errors='ignore')\n",
    "\n",
    "# Clip negative values to 0\n",
    "df[key_columns] = df[key_columns].clip(lower=0)\n",
    "\n",
    "# Export cleaned data\n",
    "df.to_csv('data/benin_clean.csv', index=False)\n",
    "print(\"Cleaned data exported to data/benin_clean.csv\")"
   ]
  },
  {
   "cell_type": "markdown",
   "id": "838fced9",
   "metadata": {},
   "source": [
    "# 3. Time Series Analysis"
   ]
  },
  {
   "cell_type": "code",
   "execution_count": null,
   "id": "c733d3f8",
   "metadata": {},
   "outputs": [],
   "source": [
    "# Convert Timestamp to datetime\n",
    "df['Timestamp'] = pd.to_datetime(df['Timestamp'])\n",
    "\n",
    "# Line plot for GHI, DNI, DHI, Tamb\n",
    "plt.figure(figsize=(12, 6))\n",
    "plt.plot(df['Timestamp'], df['GHI'], label='GHI')\n",
    "plt.plot(df['Timestamp'], df['DNI'], label='DNI')\n",
    "plt.plot(df['Timestamp'], df['DHI'], label='DHI')\n",
    "plt.plot(df['Timestamp'], df['Tamb'], label='Tamb')\n",
    "plt.xlabel('Timestamp')\n",
    "plt.ylabel('Value')\n",
    "plt.title('Time Series of Solar Irradiance and Temperature')\n",
    "plt.legend()\n",
    "plt.show()\n",
    "\n",
    "# Monthly and hourly patterns\n",
    "df['Month'] = df['Timestamp'].dt.month\n",
    "df['Hour'] = df['Timestamp'].dt.hour\n",
    "\n",
    "# Average GHI by month\n",
    "plt.figure(figsize=(8, 5))\n",
    "sns.barplot(x='Month', y='GHI', data=df)\n",
    "plt.title('Average GHI by Month')\n",
    "plt.show()\n",
    "\n",
    "# Average GHI by hour\n",
    "plt.figure(figsize=(8, 5))\n",
    "sns.lineplot(x='Hour', y='GHI', data=df)\n",
    "plt.title('Average GHI by Hour of Day')\n",
    "plt.show()"
   ]
  },
  {
   "cell_type": "markdown",
   "id": "24e0eab8",
   "metadata": {},
   "source": [
    "## Time Series Observations\n",
    "\n",
    "- GHI (Global Horizontal Irradiance) peaks around midday, aligning with expected solar patterns.\n",
    "- DNI (Direct Normal Irradiance) displays some anomalous spikes that warrant further investigation.\n",
    "- Ambient temperature (Tamb) exhibits clear seasonal variation, with higher values observed during the warmer months."
   ]
  },
  {
   "cell_type": "markdown",
   "id": "4d2c9332",
   "metadata": {},
   "source": [
    "# 4. Cleaning Impact Analysis"
   ]
  },
  {
   "cell_type": "code",
   "execution_count": null,
   "id": "5c09b018",
   "metadata": {},
   "outputs": [],
   "source": [
    "# Group by Cleaning flag\n",
    "cleaning_impact = df.groupby('Cleaning')[['ModA', 'ModB']].mean().reset_index()\n",
    "\n",
    "# Bar plot\n",
    "cleaning_impact.plot(kind='bar', x='Cleaning', y=['ModA', 'ModB'], title='Average ModA and ModB by Cleaning Status')\n",
    "plt.xlabel('Cleaning (0 = No, 1 = Yes)')\n",
    "plt.ylabel('Average Value')\n",
    "plt.show()"
   ]
  },
  {
   "cell_type": "markdown",
   "id": "2ac2a980",
   "metadata": {},
   "source": [
    "## Cleaning Impact\n",
    "\n",
    "Cleaning events are associated with increased average values for ModA and ModB, indicating improved sensor performance after cleaning. Further analysis is recommended to quantify the effect of cleaning on GHI and overall data quality."
   ]
  },
  {
   "cell_type": "markdown",
   "id": "a2dc4c87",
   "metadata": {},
   "source": [
    "# 5. Correlation and Relationship Analysis"
   ]
  },
  {
   "cell_type": "code",
   "execution_count": null,
   "id": "afa8ae29",
   "metadata": {},
   "outputs": [],
   "source": [
    "# Correlation heatmap\n",
    "corr = df[['GHI', 'DNI', 'DHI', 'TModA', 'TModB']].corr()\n",
    "plt.figure(figsize=(8, 6))\n",
    "sns.heatmap(corr, annot=True, cmap='coolwarm', vmin=-1, vmax=1)\n",
    "plt.title('Correlation Heatmap')\n",
    "plt.show()\n",
    "\n",
    "# Scatter plot: WS vs. GHI\n",
    "plt.figure(figsize=(8, 5))\n",
    "sns.scatterplot(x='WS', y='GHI', data=df)\n",
    "plt.title('Wind Speed vs. GHI')\n",
    "plt.show()"
   ]
  },
  {
   "cell_type": "markdown",
   "id": "b78d1859",
   "metadata": {},
   "source": [
    "## Correlation and Relationships\n",
    "\n",
    "- There is a strong positive correlation between GHI (Global Horizontal Irradiance) and DNI (Direct Normal Irradiance), suggesting that as direct sunlight increases, so does the total solar irradiance.\n",
    "- A weak negative correlation is observed between wind speed (WS) and GHI, which may indicate that higher wind speeds are associated with increased cloud movement or dispersion, slightly reducing solar irradiance."
   ]
  },
  {
   "cell_type": "markdown",
   "id": "a0cc9f8d",
   "metadata": {},
   "source": [
    "# 6. Wind and Distribution Analysis"
   ]
  },
  {
   "cell_type": "code",
   "execution_count": null,
   "id": "2d9f5d17",
   "metadata": {},
   "outputs": [],
   "source": [
    "# Wind rose plot\n",
    "ax = WindroseAxes.from_ax()\n",
    "ax.bar(df['WD'], df['WS'], normed=True, opening=0.8, edgecolor='white')\n",
    "ax.set_legend()\n",
    "plt.title('Wind Rose Plot')\n",
    "plt.show()\n",
    "\n",
    "# Histograms\n",
    "plt.figure(figsize=(12, 4))\n",
    "plt.subplot(1, 2, 1)\n",
    "sns.histplot(df['GHI'], bins=30)\n",
    "plt.title('GHI Distribution')\n",
    "plt.subplot(1, 2, 2)\n",
    "sns.histplot(df['WS'], bins=30)\n",
    "plt.title('Wind Speed Distribution')\n",
    "plt.show()"
   ]
  },
  {
   "cell_type": "markdown",
   "id": "bf681b82",
   "metadata": {},
   "source": [
    "## Wind and Distribution Analysis\n",
    "\n",
    "- The wind direction is predominantly from the northeast, with wind speeds mostly ranging between 2–6 m/s.\n",
    "- The GHI distribution is right-skewed, indicating that low irradiance values are most common, with occasional high peaks."
   ]
  },
  {
   "cell_type": "markdown",
   "id": "d82e91bb",
   "metadata": {},
   "source": [
    "# 7. Temperature Analysis"
   ]
  },
  {
   "cell_type": "code",
   "execution_count": null,
   "id": "77147f0f",
   "metadata": {},
   "outputs": [],
   "source": [
    "# RH vs. Tamb scatter plot\n",
    "# Temp-Analysis\n",
    "plt.figure(figsize=(8, 5))\n",
    "sns.scatterplot(x='RH', y='Tamb', data=df)\n",
    "plt.title('Relative Humidity vs. Ambient Temperature')\n",
    "plt.show()\n",
    "\n",
    "# Bubble chart: GHI vs. Tamb with RH size\n",
    "plt.figure(figsize=(8, 5))\n",
    "plt.scatter(df['Tamb'], df['GHI'], s=df['RH']*10, alpha=0.5)\n",
    "plt.xlabel('Ambient Temperature (°C)')\n",
    "plt.ylabel('GHI (W/m²)')\n",
    "plt.title('GHI vs. Tamb with RH Bubble Size')\n",
    "plt.show()"
   ]
  },
  {
   "cell_type": "markdown",
   "id": "2eef6df0",
   "metadata": {},
   "source": [
    "## Temperature Analysis\n",
    "\n",
    "- Higher relative humidity (RH) is associated with lower GHI, likely due to increased cloud cover.\n",
    "- There is a positive relationship between ambient temperature (Tamb) and GHI, with larger RH values observed at higher temperatures.\n",
    "\n",
    "## Conclusion\n",
    "\n",
    "The Benin dataset has been thoroughly cleaned and analyzed, uncovering important trends in solar irradiance, temperature, and wind patterns. These findings provide a strong foundation for cross-country comparisons in Task 3."
   ]
  }
 ],
 "metadata": {
  "language_info": {
   "name": "python"
  }
 },
 "nbformat": 4,
 "nbformat_minor": 5
}
